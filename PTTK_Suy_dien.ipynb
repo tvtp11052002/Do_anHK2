{
  "nbformat": 4,
  "nbformat_minor": 0,
  "metadata": {
    "colab": {
      "name": "PTTK_Suy_dien.ipynb",
      "provenance": [],
      "authorship_tag": "ABX9TyPRwy1CPd1TG+VTLYMx6ZjH",
      "include_colab_link": true
    },
    "kernelspec": {
      "name": "python3",
      "display_name": "Python 3"
    },
    "language_info": {
      "name": "python"
    }
  },
  "cells": [
    {
      "cell_type": "markdown",
      "metadata": {
        "id": "view-in-github",
        "colab_type": "text"
      },
      "source": [
        "<a href=\"https://colab.research.google.com/github/TranThiDieuHien/-n-PTDL-Python---HK2/blob/main/PTTK_Suy_dien.ipynb\" target=\"_parent\"><img src=\"https://colab.research.google.com/assets/colab-badge.svg\" alt=\"Open In Colab\"/></a>"
      ]
    },
    {
      "cell_type": "code",
      "metadata": {
        "colab": {
          "base_uri": "https://localhost:8080/"
        },
        "id": "q0Mi8qWGz-fY",
        "outputId": "0eb10407-5db8-4a68-e8fe-d98b1ce4ffe9"
      },
      "source": [
        "#import thư viện\n",
        "import numpy as np\n",
        "import pandas as pd\n",
        "from scipy import stats\n",
        "import seaborn as sns\n",
        "from matplotlib import pyplot as plt\n",
        "import statsmodels.api as sm"
      ],
      "execution_count": 1,
      "outputs": [
        {
          "output_type": "stream",
          "text": [
            "/usr/local/lib/python3.7/dist-packages/statsmodels/tools/_testing.py:19: FutureWarning: pandas.util.testing is deprecated. Use the functions in the public API at pandas.testing instead.\n",
            "  import pandas.util.testing as tm\n"
          ],
          "name": "stderr"
        }
      ]
    },
    {
      "cell_type": "code",
      "metadata": {
        "id": "1WaFz-8X0Qzg"
      },
      "source": [
        "#Plot\n",
        "def hist_plot(data):\n",
        "    # Kiem tra data co chuan hay khong?\n",
        "    mean = np.mean(data)\n",
        "    # ddof=1 :: hiệu chỉnh\n",
        "    std = np.std(data, ddof=1)\n",
        "    domain = np.linspace(np.min(data), np.max(data))\n",
        "    plt.plot(domain, stats.norm.pdf(domain, mean, std))\n",
        "    #density=True :: chuẩn hóa dữ liệu về normal\n",
        "    plt.hist(data, edgecolor='green', density=True)\n",
        "    plt.show()\n",
        "    \n",
        "def qq_plot(data):\n",
        "    def standadize(data):\n",
        "        mean = np.mean(data)\n",
        "        std = np.std(data)\n",
        "        return (data - mean)/std\n",
        "    \n",
        "    sm.qqplot(standadize(data), line ='45')\n",
        "    plt.show()\n",
        "    \n",
        "#Hàm Kolmogorov để kiểm tra xem các mẫu hiện tại có tuân theo phân phối chuẩn hay không\n",
        "def Kolmogorov(data):\n",
        "    print(\"Kiểm định Kolmogorov -\", data.name)\n",
        "    k, p = stats.kstest(rvs=data, cdf='norm', args=(np.mean(data), np.std(data)))\n",
        "    if p > 0.05:\n",
        "        print('''Chưa có bằng chứng thống kê để bác bỏ giả thuyết H0.\n",
        "        Điều này ngụ ý rằng các mẫu hiện tại tuân theo luật phân phối chuẩn''')\n",
        "    else:\n",
        "        print('''Có bằng chứng thống kê để bác bỏ giả thuyết H0.\n",
        "        Điều này ngụ ý rằng các mẫu hiện tại không tuân theo luật phân phối chuẩn''')\n",
        "    print(\"------------------------------\")\n",
        "\n",
        "\n",
        "#Hàm Barlett dùng để kiểm tra các mẫu hiện tại có mang tính đồng nhất về phương sai hay không\n",
        "def bartlett(a, b, c): \n",
        "    print(\"~~~~~~~~~~~~~~~~~~~~~~~~~~~~~~~\")\n",
        "    print(\"Kiểm định Bartlett:\")\n",
        "    stat, pvalue = stats.bartlett(a, b, c)\n",
        "    print(\"Statistic =\", stat, \"\\n\",\n",
        "          \"p value =\", pvalue)\n",
        "    if pvalue > 0.05:\n",
        "        print('''Chưa có bằng chứng thống kê để bác bỏ giả thuyết H0. \n",
        "        Điều này ngụ ý các mẫu hiện tại mang tính đồng nhất về phương sai''')\n",
        "    else:\n",
        "        print('''Có bằng chứng thống kê để bác bỏ giả thuyết H0. \n",
        "         Điều này ngụ ý mẫu hiện tại không đồng nhất về phương sai''')\n",
        "    print(\"~~~~~~~~~~~~~~~~~~~~~~~~~~~~~~~\")\n",
        "\n",
        "def bartlett1(a, b): \n",
        "    print(\"~~~~~~~~~~~~~~~~~~~~~~~~~~~~~~~\")\n",
        "    print(\"Kiểm định Bartlett:\")\n",
        "    stat, pvalue = stats.bartlett(a, b)\n",
        "    print(\"Statistic =\", stat, \"\\n\",\n",
        "          \"p value =\", pvalue)\n",
        "    if pvalue > 0.05:\n",
        "        print('''Chưa có bằng chứng thống kê để bác bỏ giả thuyết H0. \n",
        "        Điều này ngụ ý các mẫu hiện tại mang tính đồng nhất về phương sai''')\n",
        "    else:\n",
        "        print('''Có bằng chứng thống kê để bác bỏ giả thuyết H0. \n",
        "         Điều này ngụ ý mẫu hiện tại không đồng nhất về phương sai''')\n",
        "    print(\"~~~~~~~~~~~~~~~~~~~~~~~~~~~~~~~\")\n",
        "\n",
        "    \n",
        "\n",
        "#Hàm kiểm định ANOVA 1 chiều\n",
        "def anova(a, b, c):\n",
        "    df = (a, b, c)\n",
        "    print(\"Kiểm định ANOVA:\")\n",
        "    stat, pvalue = stats.f_oneway(a, b, c)\n",
        "    print(\"Stat =\", stat, \"\\n\", \"p value =\", pvalue)\n",
        "    if pvalue < 0.05:\n",
        "        print(\"Có bằng chứng thống kê để bác bỏ giả thuyết H0\")\n",
        "    else:\n",
        "        print(\"Chưa có bằng chứng thống kê để bác bỏ giả thuyết H0\")\n",
        "\n",
        "def results(p, vals=['mean1', 'mean2'], alpha=0.05):\n",
        "    cols=['score', 'p_value', 'KetLuan']\n",
        "    if p['p_value'] < alpha:\n",
        "        p['KetLuan'] = f\"Chấp nhận H1 với mức ý nghĩa {alpha}\"\n",
        "    if p['p_value'] >= alpha:\n",
        "        p['KetLuan'] = f\"Chấp nhận H0 với mức ý nghĩa {alpha}\"\n",
        "    df = pd.DataFrame(p, index=[''])\n",
        "    if vals: cols = vals + cols\n",
        "    return df[cols]"
      ],
      "execution_count": 2,
      "outputs": []
    },
    {
      "cell_type": "code",
      "metadata": {
        "colab": {
          "base_uri": "https://localhost:8080/",
          "height": 351
        },
        "id": "rtPj2VeA0Tu1",
        "outputId": "570c7ba6-b6c3-45e2-867e-cb99b1a51b32"
      },
      "source": [
        "#Đọc file\n",
        "data = pd.read_csv(\"Diet_R.csv\")\n",
        "data.head(10)"
      ],
      "execution_count": 3,
      "outputs": [
        {
          "output_type": "execute_result",
          "data": {
            "text/html": [
              "<div>\n",
              "<style scoped>\n",
              "    .dataframe tbody tr th:only-of-type {\n",
              "        vertical-align: middle;\n",
              "    }\n",
              "\n",
              "    .dataframe tbody tr th {\n",
              "        vertical-align: top;\n",
              "    }\n",
              "\n",
              "    .dataframe thead th {\n",
              "        text-align: right;\n",
              "    }\n",
              "</style>\n",
              "<table border=\"1\" class=\"dataframe\">\n",
              "  <thead>\n",
              "    <tr style=\"text-align: right;\">\n",
              "      <th></th>\n",
              "      <th>Person</th>\n",
              "      <th>gender</th>\n",
              "      <th>Age</th>\n",
              "      <th>Height</th>\n",
              "      <th>pre.weight</th>\n",
              "      <th>Diet</th>\n",
              "      <th>weight6weeks</th>\n",
              "    </tr>\n",
              "  </thead>\n",
              "  <tbody>\n",
              "    <tr>\n",
              "      <th>0</th>\n",
              "      <td>25</td>\n",
              "      <td>NaN</td>\n",
              "      <td>41</td>\n",
              "      <td>171</td>\n",
              "      <td>60</td>\n",
              "      <td>2</td>\n",
              "      <td>60.0</td>\n",
              "    </tr>\n",
              "    <tr>\n",
              "      <th>1</th>\n",
              "      <td>26</td>\n",
              "      <td>NaN</td>\n",
              "      <td>32</td>\n",
              "      <td>174</td>\n",
              "      <td>103</td>\n",
              "      <td>2</td>\n",
              "      <td>103.0</td>\n",
              "    </tr>\n",
              "    <tr>\n",
              "      <th>2</th>\n",
              "      <td>1</td>\n",
              "      <td>0.0</td>\n",
              "      <td>22</td>\n",
              "      <td>159</td>\n",
              "      <td>58</td>\n",
              "      <td>1</td>\n",
              "      <td>54.2</td>\n",
              "    </tr>\n",
              "    <tr>\n",
              "      <th>3</th>\n",
              "      <td>2</td>\n",
              "      <td>0.0</td>\n",
              "      <td>46</td>\n",
              "      <td>192</td>\n",
              "      <td>60</td>\n",
              "      <td>1</td>\n",
              "      <td>54.0</td>\n",
              "    </tr>\n",
              "    <tr>\n",
              "      <th>4</th>\n",
              "      <td>3</td>\n",
              "      <td>0.0</td>\n",
              "      <td>55</td>\n",
              "      <td>170</td>\n",
              "      <td>64</td>\n",
              "      <td>1</td>\n",
              "      <td>63.3</td>\n",
              "    </tr>\n",
              "    <tr>\n",
              "      <th>5</th>\n",
              "      <td>4</td>\n",
              "      <td>0.0</td>\n",
              "      <td>33</td>\n",
              "      <td>171</td>\n",
              "      <td>64</td>\n",
              "      <td>1</td>\n",
              "      <td>61.1</td>\n",
              "    </tr>\n",
              "    <tr>\n",
              "      <th>6</th>\n",
              "      <td>5</td>\n",
              "      <td>0.0</td>\n",
              "      <td>50</td>\n",
              "      <td>170</td>\n",
              "      <td>65</td>\n",
              "      <td>1</td>\n",
              "      <td>62.2</td>\n",
              "    </tr>\n",
              "    <tr>\n",
              "      <th>7</th>\n",
              "      <td>6</td>\n",
              "      <td>0.0</td>\n",
              "      <td>50</td>\n",
              "      <td>201</td>\n",
              "      <td>66</td>\n",
              "      <td>1</td>\n",
              "      <td>64.0</td>\n",
              "    </tr>\n",
              "    <tr>\n",
              "      <th>8</th>\n",
              "      <td>7</td>\n",
              "      <td>0.0</td>\n",
              "      <td>37</td>\n",
              "      <td>174</td>\n",
              "      <td>67</td>\n",
              "      <td>1</td>\n",
              "      <td>65.0</td>\n",
              "    </tr>\n",
              "    <tr>\n",
              "      <th>9</th>\n",
              "      <td>8</td>\n",
              "      <td>0.0</td>\n",
              "      <td>28</td>\n",
              "      <td>176</td>\n",
              "      <td>69</td>\n",
              "      <td>1</td>\n",
              "      <td>60.5</td>\n",
              "    </tr>\n",
              "  </tbody>\n",
              "</table>\n",
              "</div>"
            ],
            "text/plain": [
              "   Person  gender  Age  Height  pre.weight  Diet  weight6weeks\n",
              "0      25     NaN   41     171          60     2          60.0\n",
              "1      26     NaN   32     174         103     2         103.0\n",
              "2       1     0.0   22     159          58     1          54.2\n",
              "3       2     0.0   46     192          60     1          54.0\n",
              "4       3     0.0   55     170          64     1          63.3\n",
              "5       4     0.0   33     171          64     1          61.1\n",
              "6       5     0.0   50     170          65     1          62.2\n",
              "7       6     0.0   50     201          66     1          64.0\n",
              "8       7     0.0   37     174          67     1          65.0\n",
              "9       8     0.0   28     176          69     1          60.5"
            ]
          },
          "metadata": {
            "tags": []
          },
          "execution_count": 3
        }
      ]
    },
    {
      "cell_type": "code",
      "metadata": {
        "id": "0OiJrAP1C-UQ"
      },
      "source": [
        "#người 25, 26 thiếu dữ liệu nên ta sẽ xóa chúng đi\n",
        "data.drop(data.loc[data['Person']== 25].index, inplace = True)\n",
        "data.drop(data.loc[data['Person']== 26].index, inplace = True)"
      ],
      "execution_count": 4,
      "outputs": []
    },
    {
      "cell_type": "code",
      "metadata": {
        "colab": {
          "base_uri": "https://localhost:8080/",
          "height": 1000
        },
        "id": "9lOGJAwu0WUy",
        "outputId": "f0799a10-573f-4ff2-de39-d733fd2ce2f3"
      },
      "source": [
        "##gender = 0: nữ, gender = 1: nam\n",
        "person = []\n",
        "print(len(data))\n",
        "for i in range (1, len(data)+1):\n",
        "    person.append(i)\n",
        "data['Person'] = person\n",
        "gen = data.set_index('Person')\n",
        "new_data = gen.sort_index()\n",
        "new_data.head(30)\n"
      ],
      "execution_count": 5,
      "outputs": [
        {
          "output_type": "stream",
          "text": [
            "76\n"
          ],
          "name": "stdout"
        },
        {
          "output_type": "execute_result",
          "data": {
            "text/html": [
              "<div>\n",
              "<style scoped>\n",
              "    .dataframe tbody tr th:only-of-type {\n",
              "        vertical-align: middle;\n",
              "    }\n",
              "\n",
              "    .dataframe tbody tr th {\n",
              "        vertical-align: top;\n",
              "    }\n",
              "\n",
              "    .dataframe thead th {\n",
              "        text-align: right;\n",
              "    }\n",
              "</style>\n",
              "<table border=\"1\" class=\"dataframe\">\n",
              "  <thead>\n",
              "    <tr style=\"text-align: right;\">\n",
              "      <th></th>\n",
              "      <th>gender</th>\n",
              "      <th>Age</th>\n",
              "      <th>Height</th>\n",
              "      <th>pre.weight</th>\n",
              "      <th>Diet</th>\n",
              "      <th>weight6weeks</th>\n",
              "    </tr>\n",
              "    <tr>\n",
              "      <th>Person</th>\n",
              "      <th></th>\n",
              "      <th></th>\n",
              "      <th></th>\n",
              "      <th></th>\n",
              "      <th></th>\n",
              "      <th></th>\n",
              "    </tr>\n",
              "  </thead>\n",
              "  <tbody>\n",
              "    <tr>\n",
              "      <th>1</th>\n",
              "      <td>0.0</td>\n",
              "      <td>22</td>\n",
              "      <td>159</td>\n",
              "      <td>58</td>\n",
              "      <td>1</td>\n",
              "      <td>54.2</td>\n",
              "    </tr>\n",
              "    <tr>\n",
              "      <th>2</th>\n",
              "      <td>0.0</td>\n",
              "      <td>46</td>\n",
              "      <td>192</td>\n",
              "      <td>60</td>\n",
              "      <td>1</td>\n",
              "      <td>54.0</td>\n",
              "    </tr>\n",
              "    <tr>\n",
              "      <th>3</th>\n",
              "      <td>0.0</td>\n",
              "      <td>55</td>\n",
              "      <td>170</td>\n",
              "      <td>64</td>\n",
              "      <td>1</td>\n",
              "      <td>63.3</td>\n",
              "    </tr>\n",
              "    <tr>\n",
              "      <th>4</th>\n",
              "      <td>0.0</td>\n",
              "      <td>33</td>\n",
              "      <td>171</td>\n",
              "      <td>64</td>\n",
              "      <td>1</td>\n",
              "      <td>61.1</td>\n",
              "    </tr>\n",
              "    <tr>\n",
              "      <th>5</th>\n",
              "      <td>0.0</td>\n",
              "      <td>50</td>\n",
              "      <td>170</td>\n",
              "      <td>65</td>\n",
              "      <td>1</td>\n",
              "      <td>62.2</td>\n",
              "    </tr>\n",
              "    <tr>\n",
              "      <th>6</th>\n",
              "      <td>0.0</td>\n",
              "      <td>50</td>\n",
              "      <td>201</td>\n",
              "      <td>66</td>\n",
              "      <td>1</td>\n",
              "      <td>64.0</td>\n",
              "    </tr>\n",
              "    <tr>\n",
              "      <th>7</th>\n",
              "      <td>0.0</td>\n",
              "      <td>37</td>\n",
              "      <td>174</td>\n",
              "      <td>67</td>\n",
              "      <td>1</td>\n",
              "      <td>65.0</td>\n",
              "    </tr>\n",
              "    <tr>\n",
              "      <th>8</th>\n",
              "      <td>0.0</td>\n",
              "      <td>28</td>\n",
              "      <td>176</td>\n",
              "      <td>69</td>\n",
              "      <td>1</td>\n",
              "      <td>60.5</td>\n",
              "    </tr>\n",
              "    <tr>\n",
              "      <th>9</th>\n",
              "      <td>0.0</td>\n",
              "      <td>28</td>\n",
              "      <td>165</td>\n",
              "      <td>70</td>\n",
              "      <td>1</td>\n",
              "      <td>68.1</td>\n",
              "    </tr>\n",
              "    <tr>\n",
              "      <th>10</th>\n",
              "      <td>0.0</td>\n",
              "      <td>45</td>\n",
              "      <td>165</td>\n",
              "      <td>70</td>\n",
              "      <td>1</td>\n",
              "      <td>66.9</td>\n",
              "    </tr>\n",
              "    <tr>\n",
              "      <th>11</th>\n",
              "      <td>0.0</td>\n",
              "      <td>60</td>\n",
              "      <td>173</td>\n",
              "      <td>72</td>\n",
              "      <td>1</td>\n",
              "      <td>70.5</td>\n",
              "    </tr>\n",
              "    <tr>\n",
              "      <th>12</th>\n",
              "      <td>0.0</td>\n",
              "      <td>48</td>\n",
              "      <td>156</td>\n",
              "      <td>72</td>\n",
              "      <td>1</td>\n",
              "      <td>69.0</td>\n",
              "    </tr>\n",
              "    <tr>\n",
              "      <th>13</th>\n",
              "      <td>0.0</td>\n",
              "      <td>41</td>\n",
              "      <td>163</td>\n",
              "      <td>72</td>\n",
              "      <td>1</td>\n",
              "      <td>68.4</td>\n",
              "    </tr>\n",
              "    <tr>\n",
              "      <th>14</th>\n",
              "      <td>0.0</td>\n",
              "      <td>37</td>\n",
              "      <td>167</td>\n",
              "      <td>82</td>\n",
              "      <td>1</td>\n",
              "      <td>81.1</td>\n",
              "    </tr>\n",
              "    <tr>\n",
              "      <th>15</th>\n",
              "      <td>0.0</td>\n",
              "      <td>44</td>\n",
              "      <td>174</td>\n",
              "      <td>58</td>\n",
              "      <td>2</td>\n",
              "      <td>60.1</td>\n",
              "    </tr>\n",
              "    <tr>\n",
              "      <th>16</th>\n",
              "      <td>0.0</td>\n",
              "      <td>37</td>\n",
              "      <td>172</td>\n",
              "      <td>58</td>\n",
              "      <td>2</td>\n",
              "      <td>56.0</td>\n",
              "    </tr>\n",
              "    <tr>\n",
              "      <th>17</th>\n",
              "      <td>0.0</td>\n",
              "      <td>41</td>\n",
              "      <td>165</td>\n",
              "      <td>59</td>\n",
              "      <td>2</td>\n",
              "      <td>57.3</td>\n",
              "    </tr>\n",
              "    <tr>\n",
              "      <th>18</th>\n",
              "      <td>0.0</td>\n",
              "      <td>43</td>\n",
              "      <td>171</td>\n",
              "      <td>61</td>\n",
              "      <td>2</td>\n",
              "      <td>56.7</td>\n",
              "    </tr>\n",
              "    <tr>\n",
              "      <th>19</th>\n",
              "      <td>0.0</td>\n",
              "      <td>20</td>\n",
              "      <td>169</td>\n",
              "      <td>62</td>\n",
              "      <td>2</td>\n",
              "      <td>55.0</td>\n",
              "    </tr>\n",
              "    <tr>\n",
              "      <th>20</th>\n",
              "      <td>0.0</td>\n",
              "      <td>51</td>\n",
              "      <td>174</td>\n",
              "      <td>63</td>\n",
              "      <td>2</td>\n",
              "      <td>62.4</td>\n",
              "    </tr>\n",
              "    <tr>\n",
              "      <th>21</th>\n",
              "      <td>0.0</td>\n",
              "      <td>31</td>\n",
              "      <td>163</td>\n",
              "      <td>63</td>\n",
              "      <td>2</td>\n",
              "      <td>60.3</td>\n",
              "    </tr>\n",
              "    <tr>\n",
              "      <th>22</th>\n",
              "      <td>0.0</td>\n",
              "      <td>54</td>\n",
              "      <td>173</td>\n",
              "      <td>63</td>\n",
              "      <td>2</td>\n",
              "      <td>59.4</td>\n",
              "    </tr>\n",
              "    <tr>\n",
              "      <th>23</th>\n",
              "      <td>0.0</td>\n",
              "      <td>50</td>\n",
              "      <td>166</td>\n",
              "      <td>65</td>\n",
              "      <td>2</td>\n",
              "      <td>62.0</td>\n",
              "    </tr>\n",
              "    <tr>\n",
              "      <th>24</th>\n",
              "      <td>0.0</td>\n",
              "      <td>48</td>\n",
              "      <td>163</td>\n",
              "      <td>66</td>\n",
              "      <td>2</td>\n",
              "      <td>64.0</td>\n",
              "    </tr>\n",
              "    <tr>\n",
              "      <th>25</th>\n",
              "      <td>0.0</td>\n",
              "      <td>16</td>\n",
              "      <td>165</td>\n",
              "      <td>68</td>\n",
              "      <td>2</td>\n",
              "      <td>63.8</td>\n",
              "    </tr>\n",
              "    <tr>\n",
              "      <th>26</th>\n",
              "      <td>0.0</td>\n",
              "      <td>37</td>\n",
              "      <td>167</td>\n",
              "      <td>68</td>\n",
              "      <td>2</td>\n",
              "      <td>63.3</td>\n",
              "    </tr>\n",
              "    <tr>\n",
              "      <th>27</th>\n",
              "      <td>0.0</td>\n",
              "      <td>30</td>\n",
              "      <td>161</td>\n",
              "      <td>76</td>\n",
              "      <td>2</td>\n",
              "      <td>72.7</td>\n",
              "    </tr>\n",
              "    <tr>\n",
              "      <th>28</th>\n",
              "      <td>0.0</td>\n",
              "      <td>29</td>\n",
              "      <td>169</td>\n",
              "      <td>77</td>\n",
              "      <td>2</td>\n",
              "      <td>77.5</td>\n",
              "    </tr>\n",
              "    <tr>\n",
              "      <th>29</th>\n",
              "      <td>0.0</td>\n",
              "      <td>51</td>\n",
              "      <td>165</td>\n",
              "      <td>60</td>\n",
              "      <td>3</td>\n",
              "      <td>53.0</td>\n",
              "    </tr>\n",
              "    <tr>\n",
              "      <th>30</th>\n",
              "      <td>0.0</td>\n",
              "      <td>35</td>\n",
              "      <td>169</td>\n",
              "      <td>62</td>\n",
              "      <td>3</td>\n",
              "      <td>56.4</td>\n",
              "    </tr>\n",
              "  </tbody>\n",
              "</table>\n",
              "</div>"
            ],
            "text/plain": [
              "        gender  Age  Height  pre.weight  Diet  weight6weeks\n",
              "Person                                                     \n",
              "1          0.0   22     159          58     1          54.2\n",
              "2          0.0   46     192          60     1          54.0\n",
              "3          0.0   55     170          64     1          63.3\n",
              "4          0.0   33     171          64     1          61.1\n",
              "5          0.0   50     170          65     1          62.2\n",
              "6          0.0   50     201          66     1          64.0\n",
              "7          0.0   37     174          67     1          65.0\n",
              "8          0.0   28     176          69     1          60.5\n",
              "9          0.0   28     165          70     1          68.1\n",
              "10         0.0   45     165          70     1          66.9\n",
              "11         0.0   60     173          72     1          70.5\n",
              "12         0.0   48     156          72     1          69.0\n",
              "13         0.0   41     163          72     1          68.4\n",
              "14         0.0   37     167          82     1          81.1\n",
              "15         0.0   44     174          58     2          60.1\n",
              "16         0.0   37     172          58     2          56.0\n",
              "17         0.0   41     165          59     2          57.3\n",
              "18         0.0   43     171          61     2          56.7\n",
              "19         0.0   20     169          62     2          55.0\n",
              "20         0.0   51     174          63     2          62.4\n",
              "21         0.0   31     163          63     2          60.3\n",
              "22         0.0   54     173          63     2          59.4\n",
              "23         0.0   50     166          65     2          62.0\n",
              "24         0.0   48     163          66     2          64.0\n",
              "25         0.0   16     165          68     2          63.8\n",
              "26         0.0   37     167          68     2          63.3\n",
              "27         0.0   30     161          76     2          72.7\n",
              "28         0.0   29     169          77     2          77.5\n",
              "29         0.0   51     165          60     3          53.0\n",
              "30         0.0   35     169          62     3          56.4"
            ]
          },
          "metadata": {
            "tags": []
          },
          "execution_count": 5
        }
      ]
    },
    {
      "cell_type": "markdown",
      "metadata": {
        "id": "VICnuVrJ40ln"
      },
      "source": [
        "Phát biểu giả thuyết\n",
        "- $$H_{0}: \\mu_{0} = \\mu_{1}$$\n",
        "    Cân nặng trung bình của trước và sau khi giảm cân là bằng nhau\n",
        "- $$H_{1}: \\mu_{0} <> \\mu_{1}$$\n",
        "    Cân nặng trung bình của trước và sau khi giảm cân là khác nhau"
      ]
    },
    {
      "cell_type": "code",
      "metadata": {
        "colab": {
          "base_uri": "https://localhost:8080/"
        },
        "id": "ND7omtAE4xHA",
        "outputId": "687034ee-9905-4d54-9cce-56c8b801a542"
      },
      "source": [
        "stat, p_value = stats.ttest_ind(data[\"pre.weight\"], data[\"weight6weeks\"])\n",
        "print('Stat =', stat, 'P_value =', p_value)\n",
        "if p_value < 0.05:\n",
        "    print('''Có bằng chứng thống kê để bác bỏ giả thuyết H0. Điều này ngụ ý rằng\n",
        "          có sự thay đổi về cân nặng trước và sau khi giảm cân''')\n",
        "else:\n",
        "    print('''Chưa có bằng chứng thống kê để bác bỏ giả thuyết H0. Điều này ngụ ý rằng\n",
        "    không có sự thay đổi về cân nặng trước và sau khi giảm cân''')"
      ],
      "execution_count": 6,
      "outputs": [
        {
          "output_type": "stream",
          "text": [
            "Stat = 3.0342255247628476 P_value = 0.0028431949414180584\n",
            "Có bằng chứng thống kê để bác bỏ giả thuyết H0. Điều này ngụ ý rằng\n",
            "          có sự thay đổi về cân nặng trước và sau khi giảm cân\n"
          ],
          "name": "stdout"
        }
      ]
    },
    {
      "cell_type": "code",
      "metadata": {
        "colab": {
          "base_uri": "https://localhost:8080/",
          "height": 320
        },
        "id": "VCE7jKWB473z",
        "outputId": "a4275472-7fad-4789-881d-1964057c8362"
      },
      "source": [
        "sns.set()\n",
        "new_data[['pre.weight', 'weight6weeks']].plot(color = ['orange', 'lime'])\n",
        "plt.title('Cân nặng trước và sau khi giảm cân', fontsize = 15, color = 'red')"
      ],
      "execution_count": 7,
      "outputs": [
        {
          "output_type": "execute_result",
          "data": {
            "text/plain": [
              "Text(0.5, 1.0, 'Cân nặng trước và sau khi giảm cân')"
            ]
          },
          "metadata": {
            "tags": []
          },
          "execution_count": 7
        },
        {
          "output_type": "display_data",
          "data": {
            "image/png": "[encoded data removed]",
            "text/plain": [
              "<Figure size 432x288 with 1 Axes>"
            ]
          },
          "metadata": {
            "tags": []
          }
        }
      ]
    },
    {
      "cell_type": "code",
      "metadata": {
        "colab": {
          "base_uri": "https://localhost:8080/",
          "height": 381
        },
        "id": "OQ8-90Xk5BN7",
        "outputId": "ee0e3236-e33f-4d3f-a623-0c9347099e19"
      },
      "source": [
        "#Tính chỉ số cân năng đã giảm\n",
        "#Thêm cột cân nặng đã giảm\n",
        "weightlost = new_data[\"pre.weight\"] - new_data[\"weight6weeks\"] \n",
        "new_data['weightlost'] = weightlost.values\n",
        "new_data.head(10)"
      ],
      "execution_count": 8,
      "outputs": [
        {
          "output_type": "execute_result",
          "data": {
            "text/html": [
              "<div>\n",
              "<style scoped>\n",
              "    .dataframe tbody tr th:only-of-type {\n",
              "        vertical-align: middle;\n",
              "    }\n",
              "\n",
              "    .dataframe tbody tr th {\n",
              "        vertical-align: top;\n",
              "    }\n",
              "\n",
              "    .dataframe thead th {\n",
              "        text-align: right;\n",
              "    }\n",
              "</style>\n",
              "<table border=\"1\" class=\"dataframe\">\n",
              "  <thead>\n",
              "    <tr style=\"text-align: right;\">\n",
              "      <th></th>\n",
              "      <th>gender</th>\n",
              "      <th>Age</th>\n",
              "      <th>Height</th>\n",
              "      <th>pre.weight</th>\n",
              "      <th>Diet</th>\n",
              "      <th>weight6weeks</th>\n",
              "      <th>weightlost</th>\n",
              "    </tr>\n",
              "    <tr>\n",
              "      <th>Person</th>\n",
              "      <th></th>\n",
              "      <th></th>\n",
              "      <th></th>\n",
              "      <th></th>\n",
              "      <th></th>\n",
              "      <th></th>\n",
              "      <th></th>\n",
              "    </tr>\n",
              "  </thead>\n",
              "  <tbody>\n",
              "    <tr>\n",
              "      <th>1</th>\n",
              "      <td>0.0</td>\n",
              "      <td>22</td>\n",
              "      <td>159</td>\n",
              "      <td>58</td>\n",
              "      <td>1</td>\n",
              "      <td>54.2</td>\n",
              "      <td>3.8</td>\n",
              "    </tr>\n",
              "    <tr>\n",
              "      <th>2</th>\n",
              "      <td>0.0</td>\n",
              "      <td>46</td>\n",
              "      <td>192</td>\n",
              "      <td>60</td>\n",
              "      <td>1</td>\n",
              "      <td>54.0</td>\n",
              "      <td>6.0</td>\n",
              "    </tr>\n",
              "    <tr>\n",
              "      <th>3</th>\n",
              "      <td>0.0</td>\n",
              "      <td>55</td>\n",
              "      <td>170</td>\n",
              "      <td>64</td>\n",
              "      <td>1</td>\n",
              "      <td>63.3</td>\n",
              "      <td>0.7</td>\n",
              "    </tr>\n",
              "    <tr>\n",
              "      <th>4</th>\n",
              "      <td>0.0</td>\n",
              "      <td>33</td>\n",
              "      <td>171</td>\n",
              "      <td>64</td>\n",
              "      <td>1</td>\n",
              "      <td>61.1</td>\n",
              "      <td>2.9</td>\n",
              "    </tr>\n",
              "    <tr>\n",
              "      <th>5</th>\n",
              "      <td>0.0</td>\n",
              "      <td>50</td>\n",
              "      <td>170</td>\n",
              "      <td>65</td>\n",
              "      <td>1</td>\n",
              "      <td>62.2</td>\n",
              "      <td>2.8</td>\n",
              "    </tr>\n",
              "    <tr>\n",
              "      <th>6</th>\n",
              "      <td>0.0</td>\n",
              "      <td>50</td>\n",
              "      <td>201</td>\n",
              "      <td>66</td>\n",
              "      <td>1</td>\n",
              "      <td>64.0</td>\n",
              "      <td>2.0</td>\n",
              "    </tr>\n",
              "    <tr>\n",
              "      <th>7</th>\n",
              "      <td>0.0</td>\n",
              "      <td>37</td>\n",
              "      <td>174</td>\n",
              "      <td>67</td>\n",
              "      <td>1</td>\n",
              "      <td>65.0</td>\n",
              "      <td>2.0</td>\n",
              "    </tr>\n",
              "    <tr>\n",
              "      <th>8</th>\n",
              "      <td>0.0</td>\n",
              "      <td>28</td>\n",
              "      <td>176</td>\n",
              "      <td>69</td>\n",
              "      <td>1</td>\n",
              "      <td>60.5</td>\n",
              "      <td>8.5</td>\n",
              "    </tr>\n",
              "    <tr>\n",
              "      <th>9</th>\n",
              "      <td>0.0</td>\n",
              "      <td>28</td>\n",
              "      <td>165</td>\n",
              "      <td>70</td>\n",
              "      <td>1</td>\n",
              "      <td>68.1</td>\n",
              "      <td>1.9</td>\n",
              "    </tr>\n",
              "    <tr>\n",
              "      <th>10</th>\n",
              "      <td>0.0</td>\n",
              "      <td>45</td>\n",
              "      <td>165</td>\n",
              "      <td>70</td>\n",
              "      <td>1</td>\n",
              "      <td>66.9</td>\n",
              "      <td>3.1</td>\n",
              "    </tr>\n",
              "  </tbody>\n",
              "</table>\n",
              "</div>"
            ],
            "text/plain": [
              "        gender  Age  Height  pre.weight  Diet  weight6weeks  weightlost\n",
              "Person                                                                 \n",
              "1          0.0   22     159          58     1          54.2         3.8\n",
              "2          0.0   46     192          60     1          54.0         6.0\n",
              "3          0.0   55     170          64     1          63.3         0.7\n",
              "4          0.0   33     171          64     1          61.1         2.9\n",
              "5          0.0   50     170          65     1          62.2         2.8\n",
              "6          0.0   50     201          66     1          64.0         2.0\n",
              "7          0.0   37     174          67     1          65.0         2.0\n",
              "8          0.0   28     176          69     1          60.5         8.5\n",
              "9          0.0   28     165          70     1          68.1         1.9\n",
              "10         0.0   45     165          70     1          66.9         3.1"
            ]
          },
          "metadata": {
            "tags": []
          },
          "execution_count": 8
        }
      ]
    },
    {
      "cell_type": "code",
      "metadata": {
        "colab": {
          "base_uri": "https://localhost:8080/",
          "height": 200
        },
        "id": "zLNpVqXA5IKF",
        "outputId": "8295e1d5-2ba8-401b-bb09-9d9e60006b05"
      },
      "source": [
        "#Kết hợp với đọc tài liệu docx ta biết được n = 78 và có 3 nhóm diet: 1, 2, 3\n",
        "weightlost_1 = []\n",
        "weightlost_2 = []\n",
        "weightlost_3 = []\n",
        "data1 = new_data[['Diet', 'weightlost', 'gender']]\n",
        "wl = data1[\"weightlost\"]\n",
        "gd = data1[\"gender\"]\n",
        "diet = data1['Diet']\n",
        "p = data1.index\n",
        "for i in range(1, len(p)):\n",
        "    if diet[i] == 1 :\n",
        "        weightlost_1.append(wl[i])\n",
        "    if diet[i] == 2:\n",
        "        weightlost_2.append(wl[i])\n",
        "    if diet[i] == 3:\n",
        "        weightlost_3.append(wl[i])\n",
        "    \n",
        "weight_lost = list(zip(weightlost_1, weightlost_2, weightlost_3))\n",
        "df =  pd.DataFrame(weight_lost, columns = (\"Diet 1\", \"Diet 2\", \"Diet 3\"))\n",
        "df.head()        "
      ],
      "execution_count": 9,
      "outputs": [
        {
          "output_type": "execute_result",
          "data": {
            "text/html": [
              "<div>\n",
              "<style scoped>\n",
              "    .dataframe tbody tr th:only-of-type {\n",
              "        vertical-align: middle;\n",
              "    }\n",
              "\n",
              "    .dataframe tbody tr th {\n",
              "        vertical-align: top;\n",
              "    }\n",
              "\n",
              "    .dataframe thead th {\n",
              "        text-align: right;\n",
              "    }\n",
              "</style>\n",
              "<table border=\"1\" class=\"dataframe\">\n",
              "  <thead>\n",
              "    <tr style=\"text-align: right;\">\n",
              "      <th></th>\n",
              "      <th>Diet 1</th>\n",
              "      <th>Diet 2</th>\n",
              "      <th>Diet 3</th>\n",
              "    </tr>\n",
              "  </thead>\n",
              "  <tbody>\n",
              "    <tr>\n",
              "      <th>0</th>\n",
              "      <td>3.8</td>\n",
              "      <td>-2.1</td>\n",
              "      <td>7.0</td>\n",
              "    </tr>\n",
              "    <tr>\n",
              "      <th>1</th>\n",
              "      <td>6.0</td>\n",
              "      <td>2.0</td>\n",
              "      <td>5.6</td>\n",
              "    </tr>\n",
              "    <tr>\n",
              "      <th>2</th>\n",
              "      <td>0.7</td>\n",
              "      <td>1.7</td>\n",
              "      <td>3.4</td>\n",
              "    </tr>\n",
              "    <tr>\n",
              "      <th>3</th>\n",
              "      <td>2.9</td>\n",
              "      <td>4.3</td>\n",
              "      <td>6.8</td>\n",
              "    </tr>\n",
              "    <tr>\n",
              "      <th>4</th>\n",
              "      <td>2.8</td>\n",
              "      <td>7.0</td>\n",
              "      <td>7.8</td>\n",
              "    </tr>\n",
              "  </tbody>\n",
              "</table>\n",
              "</div>"
            ],
            "text/plain": [
              "   Diet 1  Diet 2  Diet 3\n",
              "0     3.8    -2.1     7.0\n",
              "1     6.0     2.0     5.6\n",
              "2     0.7     1.7     3.4\n",
              "3     2.9     4.3     6.8\n",
              "4     2.8     7.0     7.8"
            ]
          },
          "metadata": {
            "tags": []
          },
          "execution_count": 9
        }
      ]
    },
    {
      "cell_type": "code",
      "metadata": {
        "id": "PDUeZ9yODepL"
      },
      "source": [
        "diet1 = df['Diet 1']\n",
        "diet2 = df['Diet 2']\n",
        "diet3 = df['Diet 3']"
      ],
      "execution_count": 10,
      "outputs": []
    },
    {
      "cell_type": "markdown",
      "metadata": {
        "id": "v02MMenqXHZO"
      },
      "source": [
        "Giả thuyết nghiên cứu:\n",
        "- H0: Cả 3 phương pháp giảm cân đều cho hiệu quả như nhau\n",
        "-\tH1: Có ít nhất 2 phương pháp giảm cân cho hiệu quả khác nhau\n"
      ]
    },
    {
      "cell_type": "code",
      "metadata": {
        "colab": {
          "base_uri": "https://localhost:8080/",
          "height": 332
        },
        "id": "HaMrz9mUDhJ_",
        "outputId": "41c4282a-b6bf-419c-bc0e-ef4799cd5a10"
      },
      "source": [
        "Kolmogorov(diet1)\n",
        "hist_plot(diet1)"
      ],
      "execution_count": 11,
      "outputs": [
        {
          "output_type": "stream",
          "text": [
            "Kiểm định Kolmogorov - Diet 1\n",
            "Chưa có bằng chứng thống kê để bác bỏ giả thuyết H0.\n",
            "        Điều này ngụ ý rằng các mẫu hiện tại tuân theo luật phân phối chuẩn\n",
            "------------------------------\n"
          ],
          "name": "stdout"
        },
        {
          "output_type": "display_data",
          "data": {
            "image/png": "[encoded data removed]",
            "text/plain": [
              "<Figure size 432x288 with 1 Axes>"
            ]
          },
          "metadata": {
            "tags": []
          }
        }
      ]
    },
    {
      "cell_type": "code",
      "metadata": {
        "colab": {
          "base_uri": "https://localhost:8080/",
          "height": 332
        },
        "id": "qvTYQiPBDjKV",
        "outputId": "96fff982-4cff-44f2-b6e2-286548fd421d"
      },
      "source": [
        "Kolmogorov(diet2)\n",
        "hist_plot(diet2)"
      ],
      "execution_count": 12,
      "outputs": [
        {
          "output_type": "stream",
          "text": [
            "Kiểm định Kolmogorov - Diet 2\n",
            "Chưa có bằng chứng thống kê để bác bỏ giả thuyết H0.\n",
            "        Điều này ngụ ý rằng các mẫu hiện tại tuân theo luật phân phối chuẩn\n",
            "------------------------------\n"
          ],
          "name": "stdout"
        },
        {
          "output_type": "display_data",
          "data": {
            "image/png": "[encoded data removed]",
            "text/plain": [
              "<Figure size 432x288 with 1 Axes>"
            ]
          },
          "metadata": {
            "tags": []
          }
        }
      ]
    },
    {
      "cell_type": "code",
      "metadata": {
        "colab": {
          "base_uri": "https://localhost:8080/",
          "height": 332
        },
        "id": "PvDR0KXnDlUw",
        "outputId": "e019e3b8-2f0c-4078-aa85-23580d348f34"
      },
      "source": [
        "Kolmogorov(diet3)\n",
        "hist_plot(diet3)"
      ],
      "execution_count": 13,
      "outputs": [
        {
          "output_type": "stream",
          "text": [
            "Kiểm định Kolmogorov - Diet 3\n",
            "Chưa có bằng chứng thống kê để bác bỏ giả thuyết H0.\n",
            "        Điều này ngụ ý rằng các mẫu hiện tại tuân theo luật phân phối chuẩn\n",
            "------------------------------\n"
          ],
          "name": "stdout"
        },
        {
          "output_type": "display_data",
          "data": {
            "image/png": "[encoded data removed]",
            "text/plain": [
              "<Figure size 432x288 with 1 Axes>"
            ]
          },
          "metadata": {
            "tags": []
          }
        }
      ]
    },
    {
      "cell_type": "code",
      "metadata": {
        "colab": {
          "base_uri": "https://localhost:8080/"
        },
        "id": "F7M-bVXeDrVy",
        "outputId": "eff66d2f-6368-488b-90e2-0245a5afb4d7"
      },
      "source": [
        "#Kiểm định Barlett\n",
        "bartlett(diet1, diet2, diet3)\n",
        "#Phân tích anova 1 chiều\n",
        "anova(diet1, diet2, diet3)"
      ],
      "execution_count": 14,
      "outputs": [
        {
          "output_type": "stream",
          "text": [
            "~~~~~~~~~~~~~~~~~~~~~~~~~~~~~~~\n",
            "Kiểm định Bartlett:\n",
            "Statistic = 0.28733374560171415 \n",
            " p value = 0.8661762468702207\n",
            "Chưa có bằng chứng thống kê để bác bỏ giả thuyết H0. \n",
            "        Điều này ngụ ý các mẫu hiện tại mang tính đồng nhất về phương sai\n",
            "~~~~~~~~~~~~~~~~~~~~~~~~~~~~~~~\n",
            "Kiểm định ANOVA:\n",
            "Stat = 3.9487895677240754 \n",
            " p value = 0.02378518834763086\n",
            "Có bằng chứng thống kê để bác bỏ giả thuyết H0\n"
          ],
          "name": "stdout"
        }
      ]
    },
    {
      "cell_type": "code",
      "metadata": {
        "colab": {
          "base_uri": "https://localhost:8080/",
          "height": 517
        },
        "id": "J_rLAsopDtXP",
        "outputId": "15248ea8-dc39-42cc-c370-2ff4469e8f44"
      },
      "source": [
        "fig, ((ax1, ax2), (ax3, ax4)) = plt.subplots(2, 2, figsize = (10, 8))\n",
        "ax1.plot(diet1, color = 'red')\n",
        "ax1.set_title(\"Diet 1\")\n",
        "ax2.plot(diet2, color = 'orange')\n",
        "ax2.set_title(\"Diet 2\")\n",
        "ax3.plot(diet3, color = 'pink')\n",
        "ax3.set_title(\"Diet 3\")"
      ],
      "execution_count": 15,
      "outputs": [
        {
          "output_type": "execute_result",
          "data": {
            "text/plain": [
              "Text(0.5, 1.0, 'Diet 3')"
            ]
          },
          "metadata": {
            "tags": []
          },
          "execution_count": 15
        },
        {
          "output_type": "display_data",
          "data": {
            "image/png": "[encoded data removed]",
            "text/plain": [
              "<Figure size 720x576 with 4 Axes>"
            ]
          },
          "metadata": {
            "tags": []
          }
        }
      ]
    },
    {
      "cell_type": "code",
      "metadata": {
        "colab": {
          "base_uri": "https://localhost:8080/",
          "height": 821
        },
        "id": "FCOPojGsDx1I",
        "outputId": "cd493e55-3431-4aaa-b163-b44f2e98f8a0"
      },
      "source": [
        "qq_plot(diet1)\n",
        "qq_plot(diet2)\n",
        "qq_plot(diet3)"
      ],
      "execution_count": 16,
      "outputs": [
        {
          "output_type": "display_data",
          "data": {
            "image/png": "[encoded data removed]",
            "text/plain": [
              "<Figure size 432x288 with 1 Axes>"
            ]
          },
          "metadata": {
            "tags": []
          }
        },
        {
          "output_type": "display_data",
          "data": {
            "image/png": "[encoded data removed]",
            "text/plain": [
              "<Figure size 432x288 with 1 Axes>"
            ]
          },
          "metadata": {
            "tags": []
          }
        },
        {
          "output_type": "display_data",
          "data": {
            "image/png": "[encoded data removed]",
            "text/plain": [
              "<Figure size 432x288 with 1 Axes>"
            ]
          },
          "metadata": {
            "tags": []
          }
        }
      ]
    },
    {
      "cell_type": "code",
      "metadata": {
        "id": "pF5GKMhhDzO9"
      },
      "source": [
        "#Tạo hàm tính min, max và std\n",
        "def mms(a):\n",
        "    print(a.name)\n",
        "    Min = a.min()\n",
        "    Max = a.max()\n",
        "    print(\"min =\", Min)\n",
        "    print(\"max =\", Max)\n",
        "    print(\"max - min =\", Max - Min)\n",
        "    a.std()\n",
        "    print(\"--\"*30)"
      ],
      "execution_count": 17,
      "outputs": []
    },
    {
      "cell_type": "code",
      "metadata": {
        "colab": {
          "base_uri": "https://localhost:8080/"
        },
        "id": "eUTROpQuD14l",
        "outputId": "a17bb09d-9861-47fd-fde2-d2e91a0aa23d"
      },
      "source": [
        "d1 = mms(diet1)\n",
        "d2 = mms(diet2)\n",
        "d3 = mms(diet3)\n",
        "print(d1)\n",
        "print(d2)\n",
        "print(d3)"
      ],
      "execution_count": 18,
      "outputs": [
        {
          "output_type": "stream",
          "text": [
            "Diet 1\n",
            "min = -0.5999999999999943\n",
            "max = 9.0\n",
            "max - min = 9.599999999999994\n",
            "------------------------------------------------------------\n",
            "Diet 2\n",
            "min = -2.1000000000000014\n",
            "max = 7.900000000000006\n",
            "max - min = 10.000000000000007\n",
            "------------------------------------------------------------\n",
            "Diet 3\n",
            "min = 0.5\n",
            "max = 8.599999999999994\n",
            "max - min = 8.099999999999994\n",
            "------------------------------------------------------------\n",
            "None\n",
            "None\n",
            "None\n"
          ],
          "name": "stdout"
        }
      ]
    },
    {
      "cell_type": "code",
      "metadata": {
        "id": "c_Ih9cq5D4WM"
      },
      "source": [
        "mean1 = diet1.mean()\n",
        "mean2 = diet2.mean()\n",
        "mean3 = diet3.mean()"
      ],
      "execution_count": 19,
      "outputs": []
    },
    {
      "cell_type": "code",
      "metadata": {
        "colab": {
          "base_uri": "https://localhost:8080/"
        },
        "id": "0QlLGf6lD63x",
        "outputId": "d47f8f08-f4a4-4bec-8d54-41b75f369039"
      },
      "source": [
        "print(\"Mean Diet1 =\", mean1)\n",
        "print(\"Mean Diet2 =\", mean2)\n",
        "print(\"Mean Diet3 =\", mean3)\n",
        "if mean1 < mean2:\n",
        "    if mean2 > mean3:\n",
        "        print(\"Nhóm diet 2 giảm cân hiệu quả nhất\")\n",
        "    else:\n",
        "        print(\"Nhóm diet 3 giảm cân hiệu quả nhất\")\n",
        "else:\n",
        "    if mean1 > mean3:\n",
        "        print(\"Nhóm diet 1 giảm cân hiệu quả nhất\")\n",
        "    else:\n",
        "        print(\"Nhóm diet 3 giảm cân hiệu quả nhất\")"
      ],
      "execution_count": 20,
      "outputs": [
        {
          "output_type": "stream",
          "text": [
            "Mean Diet1 = 3.2999999999999994\n",
            "Mean Diet2 = 3.225\n",
            "Mean Diet3 = 4.933333333333332\n",
            "Nhóm diet 3 giảm cân hiệu quả nhất\n"
          ],
          "name": "stdout"
        }
      ]
    },
    {
      "cell_type": "code",
      "metadata": {
        "colab": {
          "base_uri": "https://localhost:8080/",
          "height": 1000
        },
        "id": "dJlYx3v_D9nY",
        "outputId": "52d86e0a-b902-4e0c-a957-48eabc987ea2"
      },
      "source": [
        "data2 = new_data[['gender', 'weightlost']]\n",
        "data2.head(50)"
      ],
      "execution_count": 21,
      "outputs": [
        {
          "output_type": "execute_result",
          "data": {
            "text/html": [
              "<div>\n",
              "<style scoped>\n",
              "    .dataframe tbody tr th:only-of-type {\n",
              "        vertical-align: middle;\n",
              "    }\n",
              "\n",
              "    .dataframe tbody tr th {\n",
              "        vertical-align: top;\n",
              "    }\n",
              "\n",
              "    .dataframe thead th {\n",
              "        text-align: right;\n",
              "    }\n",
              "</style>\n",
              "<table border=\"1\" class=\"dataframe\">\n",
              "  <thead>\n",
              "    <tr style=\"text-align: right;\">\n",
              "      <th></th>\n",
              "      <th>gender</th>\n",
              "      <th>weightlost</th>\n",
              "    </tr>\n",
              "    <tr>\n",
              "      <th>Person</th>\n",
              "      <th></th>\n",
              "      <th></th>\n",
              "    </tr>\n",
              "  </thead>\n",
              "  <tbody>\n",
              "    <tr>\n",
              "      <th>1</th>\n",
              "      <td>0.0</td>\n",
              "      <td>3.8</td>\n",
              "    </tr>\n",
              "    <tr>\n",
              "      <th>2</th>\n",
              "      <td>0.0</td>\n",
              "      <td>6.0</td>\n",
              "    </tr>\n",
              "    <tr>\n",
              "      <th>3</th>\n",
              "      <td>0.0</td>\n",
              "      <td>0.7</td>\n",
              "    </tr>\n",
              "    <tr>\n",
              "      <th>4</th>\n",
              "      <td>0.0</td>\n",
              "      <td>2.9</td>\n",
              "    </tr>\n",
              "    <tr>\n",
              "      <th>5</th>\n",
              "      <td>0.0</td>\n",
              "      <td>2.8</td>\n",
              "    </tr>\n",
              "    <tr>\n",
              "      <th>6</th>\n",
              "      <td>0.0</td>\n",
              "      <td>2.0</td>\n",
              "    </tr>\n",
              "    <tr>\n",
              "      <th>7</th>\n",
              "      <td>0.0</td>\n",
              "      <td>2.0</td>\n",
              "    </tr>\n",
              "    <tr>\n",
              "      <th>8</th>\n",
              "      <td>0.0</td>\n",
              "      <td>8.5</td>\n",
              "    </tr>\n",
              "    <tr>\n",
              "      <th>9</th>\n",
              "      <td>0.0</td>\n",
              "      <td>1.9</td>\n",
              "    </tr>\n",
              "    <tr>\n",
              "      <th>10</th>\n",
              "      <td>0.0</td>\n",
              "      <td>3.1</td>\n",
              "    </tr>\n",
              "    <tr>\n",
              "      <th>11</th>\n",
              "      <td>0.0</td>\n",
              "      <td>1.5</td>\n",
              "    </tr>\n",
              "    <tr>\n",
              "      <th>12</th>\n",
              "      <td>0.0</td>\n",
              "      <td>3.0</td>\n",
              "    </tr>\n",
              "    <tr>\n",
              "      <th>13</th>\n",
              "      <td>0.0</td>\n",
              "      <td>3.6</td>\n",
              "    </tr>\n",
              "    <tr>\n",
              "      <th>14</th>\n",
              "      <td>0.0</td>\n",
              "      <td>0.9</td>\n",
              "    </tr>\n",
              "    <tr>\n",
              "      <th>15</th>\n",
              "      <td>0.0</td>\n",
              "      <td>-2.1</td>\n",
              "    </tr>\n",
              "    <tr>\n",
              "      <th>16</th>\n",
              "      <td>0.0</td>\n",
              "      <td>2.0</td>\n",
              "    </tr>\n",
              "    <tr>\n",
              "      <th>17</th>\n",
              "      <td>0.0</td>\n",
              "      <td>1.7</td>\n",
              "    </tr>\n",
              "    <tr>\n",
              "      <th>18</th>\n",
              "      <td>0.0</td>\n",
              "      <td>4.3</td>\n",
              "    </tr>\n",
              "    <tr>\n",
              "      <th>19</th>\n",
              "      <td>0.0</td>\n",
              "      <td>7.0</td>\n",
              "    </tr>\n",
              "    <tr>\n",
              "      <th>20</th>\n",
              "      <td>0.0</td>\n",
              "      <td>0.6</td>\n",
              "    </tr>\n",
              "    <tr>\n",
              "      <th>21</th>\n",
              "      <td>0.0</td>\n",
              "      <td>2.7</td>\n",
              "    </tr>\n",
              "    <tr>\n",
              "      <th>22</th>\n",
              "      <td>0.0</td>\n",
              "      <td>3.6</td>\n",
              "    </tr>\n",
              "    <tr>\n",
              "      <th>23</th>\n",
              "      <td>0.0</td>\n",
              "      <td>3.0</td>\n",
              "    </tr>\n",
              "    <tr>\n",
              "      <th>24</th>\n",
              "      <td>0.0</td>\n",
              "      <td>2.0</td>\n",
              "    </tr>\n",
              "    <tr>\n",
              "      <th>25</th>\n",
              "      <td>0.0</td>\n",
              "      <td>4.2</td>\n",
              "    </tr>\n",
              "    <tr>\n",
              "      <th>26</th>\n",
              "      <td>0.0</td>\n",
              "      <td>4.7</td>\n",
              "    </tr>\n",
              "    <tr>\n",
              "      <th>27</th>\n",
              "      <td>0.0</td>\n",
              "      <td>3.3</td>\n",
              "    </tr>\n",
              "    <tr>\n",
              "      <th>28</th>\n",
              "      <td>0.0</td>\n",
              "      <td>-0.5</td>\n",
              "    </tr>\n",
              "    <tr>\n",
              "      <th>29</th>\n",
              "      <td>0.0</td>\n",
              "      <td>7.0</td>\n",
              "    </tr>\n",
              "    <tr>\n",
              "      <th>30</th>\n",
              "      <td>0.0</td>\n",
              "      <td>5.6</td>\n",
              "    </tr>\n",
              "    <tr>\n",
              "      <th>31</th>\n",
              "      <td>0.0</td>\n",
              "      <td>3.4</td>\n",
              "    </tr>\n",
              "    <tr>\n",
              "      <th>32</th>\n",
              "      <td>0.0</td>\n",
              "      <td>6.8</td>\n",
              "    </tr>\n",
              "    <tr>\n",
              "      <th>33</th>\n",
              "      <td>0.0</td>\n",
              "      <td>7.8</td>\n",
              "    </tr>\n",
              "    <tr>\n",
              "      <th>34</th>\n",
              "      <td>0.0</td>\n",
              "      <td>5.4</td>\n",
              "    </tr>\n",
              "    <tr>\n",
              "      <th>35</th>\n",
              "      <td>0.0</td>\n",
              "      <td>6.8</td>\n",
              "    </tr>\n",
              "    <tr>\n",
              "      <th>36</th>\n",
              "      <td>0.0</td>\n",
              "      <td>7.2</td>\n",
              "    </tr>\n",
              "    <tr>\n",
              "      <th>37</th>\n",
              "      <td>0.0</td>\n",
              "      <td>7.0</td>\n",
              "    </tr>\n",
              "    <tr>\n",
              "      <th>38</th>\n",
              "      <td>0.0</td>\n",
              "      <td>7.3</td>\n",
              "    </tr>\n",
              "    <tr>\n",
              "      <th>39</th>\n",
              "      <td>0.0</td>\n",
              "      <td>0.9</td>\n",
              "    </tr>\n",
              "    <tr>\n",
              "      <th>40</th>\n",
              "      <td>0.0</td>\n",
              "      <td>7.6</td>\n",
              "    </tr>\n",
              "    <tr>\n",
              "      <th>41</th>\n",
              "      <td>0.0</td>\n",
              "      <td>4.1</td>\n",
              "    </tr>\n",
              "    <tr>\n",
              "      <th>42</th>\n",
              "      <td>0.0</td>\n",
              "      <td>6.3</td>\n",
              "    </tr>\n",
              "    <tr>\n",
              "      <th>43</th>\n",
              "      <td>0.0</td>\n",
              "      <td>5.0</td>\n",
              "    </tr>\n",
              "    <tr>\n",
              "      <th>44</th>\n",
              "      <td>1.0</td>\n",
              "      <td>-0.6</td>\n",
              "    </tr>\n",
              "    <tr>\n",
              "      <th>45</th>\n",
              "      <td>1.0</td>\n",
              "      <td>1.1</td>\n",
              "    </tr>\n",
              "    <tr>\n",
              "      <th>46</th>\n",
              "      <td>1.0</td>\n",
              "      <td>4.5</td>\n",
              "    </tr>\n",
              "    <tr>\n",
              "      <th>47</th>\n",
              "      <td>1.0</td>\n",
              "      <td>4.1</td>\n",
              "    </tr>\n",
              "    <tr>\n",
              "      <th>48</th>\n",
              "      <td>1.0</td>\n",
              "      <td>9.0</td>\n",
              "    </tr>\n",
              "    <tr>\n",
              "      <th>49</th>\n",
              "      <td>1.0</td>\n",
              "      <td>2.4</td>\n",
              "    </tr>\n",
              "    <tr>\n",
              "      <th>50</th>\n",
              "      <td>1.0</td>\n",
              "      <td>3.9</td>\n",
              "    </tr>\n",
              "  </tbody>\n",
              "</table>\n",
              "</div>"
            ],
            "text/plain": [
              "        gender  weightlost\n",
              "Person                    \n",
              "1          0.0         3.8\n",
              "2          0.0         6.0\n",
              "3          0.0         0.7\n",
              "4          0.0         2.9\n",
              "5          0.0         2.8\n",
              "6          0.0         2.0\n",
              "7          0.0         2.0\n",
              "8          0.0         8.5\n",
              "9          0.0         1.9\n",
              "10         0.0         3.1\n",
              "11         0.0         1.5\n",
              "12         0.0         3.0\n",
              "13         0.0         3.6\n",
              "14         0.0         0.9\n",
              "15         0.0        -2.1\n",
              "16         0.0         2.0\n",
              "17         0.0         1.7\n",
              "18         0.0         4.3\n",
              "19         0.0         7.0\n",
              "20         0.0         0.6\n",
              "21         0.0         2.7\n",
              "22         0.0         3.6\n",
              "23         0.0         3.0\n",
              "24         0.0         2.0\n",
              "25         0.0         4.2\n",
              "26         0.0         4.7\n",
              "27         0.0         3.3\n",
              "28         0.0        -0.5\n",
              "29         0.0         7.0\n",
              "30         0.0         5.6\n",
              "31         0.0         3.4\n",
              "32         0.0         6.8\n",
              "33         0.0         7.8\n",
              "34         0.0         5.4\n",
              "35         0.0         6.8\n",
              "36         0.0         7.2\n",
              "37         0.0         7.0\n",
              "38         0.0         7.3\n",
              "39         0.0         0.9\n",
              "40         0.0         7.6\n",
              "41         0.0         4.1\n",
              "42         0.0         6.3\n",
              "43         0.0         5.0\n",
              "44         1.0        -0.6\n",
              "45         1.0         1.1\n",
              "46         1.0         4.5\n",
              "47         1.0         4.1\n",
              "48         1.0         9.0\n",
              "49         1.0         2.4\n",
              "50         1.0         3.9"
            ]
          },
          "metadata": {
            "tags": []
          },
          "execution_count": 21
        }
      ]
    },
    {
      "cell_type": "code",
      "metadata": {
        "colab": {
          "base_uri": "https://localhost:8080/",
          "height": 200
        },
        "id": "_Qkeaih1ECSr",
        "outputId": "a21ecb91-d31a-49ed-c0fc-919b882b26f0"
      },
      "source": [
        "wl_1 = []\n",
        "wl_2 = []\n",
        "wl1 = data2[\"weightlost\"]\n",
        "gd1 = data2[\"gender\"]\n",
        "for i in range(1, len(data2)+1):\n",
        "    if gd1[i] == 1:\n",
        "        wl_1.append(wl1[i])\n",
        "    else:\n",
        "        wl_2.append(wl1[i])\n",
        "\n",
        "weight_lost_gen = list(zip(wl_1, wl_2))\n",
        "df2 =  pd.DataFrame(weight_lost_gen, columns = (\"Nam\", \"Nữ\"))\n",
        "df2.head()     "
      ],
      "execution_count": 22,
      "outputs": [
        {
          "output_type": "execute_result",
          "data": {
            "text/html": [
              "<div>\n",
              "<style scoped>\n",
              "    .dataframe tbody tr th:only-of-type {\n",
              "        vertical-align: middle;\n",
              "    }\n",
              "\n",
              "    .dataframe tbody tr th {\n",
              "        vertical-align: top;\n",
              "    }\n",
              "\n",
              "    .dataframe thead th {\n",
              "        text-align: right;\n",
              "    }\n",
              "</style>\n",
              "<table border=\"1\" class=\"dataframe\">\n",
              "  <thead>\n",
              "    <tr style=\"text-align: right;\">\n",
              "      <th></th>\n",
              "      <th>Nam</th>\n",
              "      <th>Nữ</th>\n",
              "    </tr>\n",
              "  </thead>\n",
              "  <tbody>\n",
              "    <tr>\n",
              "      <th>0</th>\n",
              "      <td>-0.6</td>\n",
              "      <td>3.8</td>\n",
              "    </tr>\n",
              "    <tr>\n",
              "      <th>1</th>\n",
              "      <td>1.1</td>\n",
              "      <td>6.0</td>\n",
              "    </tr>\n",
              "    <tr>\n",
              "      <th>2</th>\n",
              "      <td>4.5</td>\n",
              "      <td>0.7</td>\n",
              "    </tr>\n",
              "    <tr>\n",
              "      <th>3</th>\n",
              "      <td>4.1</td>\n",
              "      <td>2.9</td>\n",
              "    </tr>\n",
              "    <tr>\n",
              "      <th>4</th>\n",
              "      <td>9.0</td>\n",
              "      <td>2.8</td>\n",
              "    </tr>\n",
              "  </tbody>\n",
              "</table>\n",
              "</div>"
            ],
            "text/plain": [
              "   Nam   Nữ\n",
              "0 -0.6  3.8\n",
              "1  1.1  6.0\n",
              "2  4.5  0.7\n",
              "3  4.1  2.9\n",
              "4  9.0  2.8"
            ]
          },
          "metadata": {
            "tags": []
          },
          "execution_count": 22
        }
      ]
    },
    {
      "cell_type": "code",
      "metadata": {
        "id": "xv6zIULEEIoF"
      },
      "source": [
        "gen_nam = df2['Nam']\n",
        "gen_nu = df2[\"Nữ\"]"
      ],
      "execution_count": 23,
      "outputs": []
    },
    {
      "cell_type": "code",
      "metadata": {
        "colab": {
          "base_uri": "https://localhost:8080/",
          "height": 332
        },
        "id": "z-Z2tbBHELF1",
        "outputId": "986a1004-e30f-41a1-cea5-ce4c14b515fb"
      },
      "source": [
        "Kolmogorov(gen_nam)\n",
        "hist_plot(gen_nam)"
      ],
      "execution_count": 24,
      "outputs": [
        {
          "output_type": "stream",
          "text": [
            "Kiểm định Kolmogorov - Nam\n",
            "Chưa có bằng chứng thống kê để bác bỏ giả thuyết H0.\n",
            "        Điều này ngụ ý rằng các mẫu hiện tại tuân theo luật phân phối chuẩn\n",
            "------------------------------\n"
          ],
          "name": "stdout"
        },
        {
          "output_type": "display_data",
          "data": {
            "image/png": "[encoded data removed]",
            "text/plain": [
              "<Figure size 432x288 with 1 Axes>"
            ]
          },
          "metadata": {
            "tags": []
          }
        }
      ]
    },
    {
      "cell_type": "code",
      "metadata": {
        "colab": {
          "base_uri": "https://localhost:8080/",
          "height": 332
        },
        "id": "kzp7Xn4cEMdm",
        "outputId": "fb885510-9086-4836-d6ff-3adfd24312fe"
      },
      "source": [
        "Kolmogorov(gen_nu)\n",
        "hist_plot(gen_nu)"
      ],
      "execution_count": 25,
      "outputs": [
        {
          "output_type": "stream",
          "text": [
            "Kiểm định Kolmogorov - Nữ\n",
            "Chưa có bằng chứng thống kê để bác bỏ giả thuyết H0.\n",
            "        Điều này ngụ ý rằng các mẫu hiện tại tuân theo luật phân phối chuẩn\n",
            "------------------------------\n"
          ],
          "name": "stdout"
        },
        {
          "output_type": "display_data",
          "data": {
            "image/png": "[encoded data removed]",
            "text/plain": [
              "<Figure size 432x288 with 1 Axes>"
            ]
          },
          "metadata": {
            "tags": []
          }
        }
      ]
    },
    {
      "cell_type": "code",
      "metadata": {
        "id": "TZhdDeJZEPAq",
        "colab": {
          "base_uri": "https://localhost:8080/"
        },
        "outputId": "eb715591-bdf0-427b-bfb6-21e38ab6c1b3"
      },
      "source": [
        "bartlett1(gen_nam, gen_nu)\n",
        "stat, p_value = stats.ttest_ind(gen_nam, gen_nu)\n",
        "print('Stat =', stat, 'P_value =', p_value)\n",
        "if p_value < 0.05:\n",
        "    print('''Có bằng chứng thống kê để bác bỏ giả thuyết H0. Điều này ngụ ý rằng\n",
        "          có sự khác nhau về sự thay đổi cân nặng sau khi giảm cân của 2 giới tính''')\n",
        "else:\n",
        "    print('''Chưa có bằng chứng thống kê để bác bỏ giả thuyết H0. Điều này ngụ ý rằng\n",
        "    không có sự khác nhau về sự thay đổi cân nặng sau khi giảm cân của 2 giới tính''')"
      ],
      "execution_count": 26,
      "outputs": [
        {
          "output_type": "stream",
          "text": [
            "~~~~~~~~~~~~~~~~~~~~~~~~~~~~~~~\n",
            "Kiểm định Bartlett:\n",
            "Statistic = 0.10360504752267073 \n",
            " p value = 0.7475455904117572\n",
            "Chưa có bằng chứng thống kê để bác bỏ giả thuyết H0. \n",
            "        Điều này ngụ ý các mẫu hiện tại mang tính đồng nhất về phương sai\n",
            "~~~~~~~~~~~~~~~~~~~~~~~~~~~~~~~\n",
            "Stat = 1.1356896084531398 P_value = 0.26032160071624544\n",
            "Chưa có bằng chứng thống kê để bác bỏ giả thuyết H0. Điều này ngụ ý rằng\n",
            "    không có sự khác nhau về sự thay đổi cân nặng sau khi giảm cân của 2 giới tính\n"
          ],
          "name": "stdout"
        }
      ]
    },
    {
      "cell_type": "code",
      "metadata": {
        "colab": {
          "base_uri": "https://localhost:8080/",
          "height": 78
        },
        "id": "FGDU6frgE7Q4",
        "outputId": "cc7d9041-aea9-4011-ae6a-5f940e9ee720"
      },
      "source": [
        "p = {}\n",
        "p['mean1'] = np.mean(gen_nam)\n",
        "p['mean2'] = np.mean(gen_nu)\n",
        "p['score'], p['p_value'] = stats.ttest_1samp(gen_nam, p['mean2'])\n",
        "results(p)"
      ],
      "execution_count": 27,
      "outputs": [
        {
          "output_type": "execute_result",
          "data": {
            "text/html": [
              "<div>\n",
              "<style scoped>\n",
              "    .dataframe tbody tr th:only-of-type {\n",
              "        vertical-align: middle;\n",
              "    }\n",
              "\n",
              "    .dataframe tbody tr th {\n",
              "        vertical-align: top;\n",
              "    }\n",
              "\n",
              "    .dataframe thead th {\n",
              "        text-align: right;\n",
              "    }\n",
              "</style>\n",
              "<table border=\"1\" class=\"dataframe\">\n",
              "  <thead>\n",
              "    <tr style=\"text-align: right;\">\n",
              "      <th></th>\n",
              "      <th>mean1</th>\n",
              "      <th>mean2</th>\n",
              "      <th>score</th>\n",
              "      <th>p_value</th>\n",
              "      <th>KetLuan</th>\n",
              "    </tr>\n",
              "  </thead>\n",
              "  <tbody>\n",
              "    <tr>\n",
              "      <th></th>\n",
              "      <td>4.015152</td>\n",
              "      <td>3.327273</td>\n",
              "      <td>1.561983</td>\n",
              "      <td>0.128129</td>\n",
              "      <td>Chấp nhận H0 với mức ý nghĩa 0.05</td>\n",
              "    </tr>\n",
              "  </tbody>\n",
              "</table>\n",
              "</div>"
            ],
            "text/plain": [
              "     mean1     mean2     score   p_value                            KetLuan\n",
              "  4.015152  3.327273  1.561983  0.128129  Chấp nhận H0 với mức ý nghĩa 0.05"
            ]
          },
          "metadata": {
            "tags": []
          },
          "execution_count": 27
        }
      ]
    },
    {
      "cell_type": "code",
      "metadata": {
        "colab": {
          "base_uri": "https://localhost:8080/",
          "height": 552
        },
        "id": "4KanMFSPE-OR",
        "outputId": "11a43707-ef8f-434b-cdab-b7e92d0dcba9"
      },
      "source": [
        "qq_plot(gen_nam)\n",
        "qq_plot(gen_nu)"
      ],
      "execution_count": null,
      "outputs": [
        {
          "output_type": "display_data",
          "data": {
            "image/png": "[encoded data removed]",
            "text/plain": [
              "<Figure size 432x288 with 1 Axes>"
            ]
          },
          "metadata": {
            "tags": []
          }
        },
        {
          "output_type": "display_data",
          "data": {
            "image/png": "[encoded data removed]",
            "text/plain": [
              "<Figure size 432x288 with 1 Axes>"
            ]
          },
          "metadata": {
            "tags": []
          }
        }
      ]
    },
    {
      "cell_type": "code",
      "metadata": {
        "id": "Xk7hb4S8FA6A"
      },
      "source": [
        ""
      ],
      "execution_count": null,
      "outputs": []
    }
  ]
}